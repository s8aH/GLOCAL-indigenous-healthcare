{
 "cells": [
  {
   "attachments": {},
   "cell_type": "markdown",
   "metadata": {},
   "source": [
    "Primary Question: \n",
    "- What factors influence Indigenous healthcare access? \n",
    "- Patterns of healthcare access among different Indigenous groups"
   ]
  },
  {
   "attachments": {},
   "cell_type": "markdown",
   "metadata": {},
   "source": [
    "> Health Gaps: Compare healthcare access between Indigenous and non-Indigenous populations"
   ]
  },
  {
   "attachments": {},
   "cell_type": "markdown",
   "metadata": {},
   "source": [
    "> Within-group Analysis: compare First Nations, Métis, and Inuit populations, or rural vs urban Indigenous populations"
   ]
  },
  {
   "cell_type": "code",
   "execution_count": 36,
   "metadata": {},
   "outputs": [],
   "source": [
    "import pandas as pd"
   ]
  },
  {
   "attachments": {},
   "cell_type": "markdown",
   "metadata": {},
   "source": [
    "# Healthcare Access"
   ]
  },
  {
   "attachments": {},
   "cell_type": "markdown",
   "metadata": {},
   "source": [
    "## Load Data"
   ]
  },
  {
   "cell_type": "code",
   "execution_count": 37,
   "metadata": {},
   "outputs": [],
   "source": [
    "def data_loader(data_type, table_name):\n",
    "    path = f'data/{data_type}/{table_name}-eng/{table_name}.csv'\n",
    "    df = pd.read_csv(path)\n",
    "    return df"
   ]
  },
  {
   "cell_type": "code",
   "execution_count": 38,
   "metadata": {},
   "outputs": [
    {
     "data": {
      "text/html": [
       "<div>\n",
       "<style scoped>\n",
       "    .dataframe tbody tr th:only-of-type {\n",
       "        vertical-align: middle;\n",
       "    }\n",
       "\n",
       "    .dataframe tbody tr th {\n",
       "        vertical-align: top;\n",
       "    }\n",
       "\n",
       "    .dataframe thead th {\n",
       "        text-align: right;\n",
       "    }\n",
       "</style>\n",
       "<table border=\"1\" class=\"dataframe\">\n",
       "  <thead>\n",
       "    <tr style=\"text-align: right;\">\n",
       "      <th></th>\n",
       "      <th>REF_DATE</th>\n",
       "      <th>GEO</th>\n",
       "      <th>DGUID</th>\n",
       "      <th>Selected characteristics of health care access and experiences</th>\n",
       "      <th>Indigenous group</th>\n",
       "      <th>Gender</th>\n",
       "      <th>Statistics</th>\n",
       "      <th>UOM</th>\n",
       "      <th>UOM_ID</th>\n",
       "      <th>SCALAR_FACTOR</th>\n",
       "      <th>SCALAR_ID</th>\n",
       "      <th>VECTOR</th>\n",
       "      <th>COORDINATE</th>\n",
       "      <th>VALUE</th>\n",
       "      <th>STATUS</th>\n",
       "      <th>SYMBOL</th>\n",
       "      <th>TERMINATED</th>\n",
       "      <th>DECIMALS</th>\n",
       "    </tr>\n",
       "  </thead>\n",
       "  <tbody>\n",
       "    <tr>\n",
       "      <th>0</th>\n",
       "      <td>2024</td>\n",
       "      <td>Canada</td>\n",
       "      <td>2021A000011124</td>\n",
       "      <td>Total, unmet health care needs in the past 12 ...</td>\n",
       "      <td>First Nations</td>\n",
       "      <td>Total, gender</td>\n",
       "      <td>Percentage</td>\n",
       "      <td>Percent</td>\n",
       "      <td>239</td>\n",
       "      <td>units</td>\n",
       "      <td>0</td>\n",
       "      <td>v1663833852</td>\n",
       "      <td>1.1.1.1.1</td>\n",
       "      <td>100.0</td>\n",
       "      <td>NaN</td>\n",
       "      <td>NaN</td>\n",
       "      <td>NaN</td>\n",
       "      <td>1</td>\n",
       "    </tr>\n",
       "    <tr>\n",
       "      <th>1</th>\n",
       "      <td>2024</td>\n",
       "      <td>Canada</td>\n",
       "      <td>2021A000011124</td>\n",
       "      <td>Total, unmet health care needs in the past 12 ...</td>\n",
       "      <td>First Nations</td>\n",
       "      <td>Total, gender</td>\n",
       "      <td>Low 95% confidence interval</td>\n",
       "      <td>Percent</td>\n",
       "      <td>239</td>\n",
       "      <td>units</td>\n",
       "      <td>0</td>\n",
       "      <td>v1663833853</td>\n",
       "      <td>1.1.1.1.2</td>\n",
       "      <td>100.0</td>\n",
       "      <td>NaN</td>\n",
       "      <td>NaN</td>\n",
       "      <td>NaN</td>\n",
       "      <td>1</td>\n",
       "    </tr>\n",
       "    <tr>\n",
       "      <th>2</th>\n",
       "      <td>2024</td>\n",
       "      <td>Canada</td>\n",
       "      <td>2021A000011124</td>\n",
       "      <td>Total, unmet health care needs in the past 12 ...</td>\n",
       "      <td>First Nations</td>\n",
       "      <td>Total, gender</td>\n",
       "      <td>High 95% confidence interval</td>\n",
       "      <td>Percent</td>\n",
       "      <td>239</td>\n",
       "      <td>units</td>\n",
       "      <td>0</td>\n",
       "      <td>v1663833854</td>\n",
       "      <td>1.1.1.1.3</td>\n",
       "      <td>100.0</td>\n",
       "      <td>NaN</td>\n",
       "      <td>NaN</td>\n",
       "      <td>NaN</td>\n",
       "      <td>1</td>\n",
       "    </tr>\n",
       "    <tr>\n",
       "      <th>3</th>\n",
       "      <td>2024</td>\n",
       "      <td>Canada</td>\n",
       "      <td>2021A000011124</td>\n",
       "      <td>Total, unmet health care needs in the past 12 ...</td>\n",
       "      <td>First Nations</td>\n",
       "      <td>Men+</td>\n",
       "      <td>Percentage</td>\n",
       "      <td>Percent</td>\n",
       "      <td>239</td>\n",
       "      <td>units</td>\n",
       "      <td>0</td>\n",
       "      <td>v1663833855</td>\n",
       "      <td>1.1.1.2.1</td>\n",
       "      <td>100.0</td>\n",
       "      <td>NaN</td>\n",
       "      <td>NaN</td>\n",
       "      <td>NaN</td>\n",
       "      <td>1</td>\n",
       "    </tr>\n",
       "    <tr>\n",
       "      <th>4</th>\n",
       "      <td>2024</td>\n",
       "      <td>Canada</td>\n",
       "      <td>2021A000011124</td>\n",
       "      <td>Total, unmet health care needs in the past 12 ...</td>\n",
       "      <td>First Nations</td>\n",
       "      <td>Men+</td>\n",
       "      <td>Low 95% confidence interval</td>\n",
       "      <td>Percent</td>\n",
       "      <td>239</td>\n",
       "      <td>units</td>\n",
       "      <td>0</td>\n",
       "      <td>v1663833856</td>\n",
       "      <td>1.1.1.2.2</td>\n",
       "      <td>100.0</td>\n",
       "      <td>NaN</td>\n",
       "      <td>NaN</td>\n",
       "      <td>NaN</td>\n",
       "      <td>1</td>\n",
       "    </tr>\n",
       "  </tbody>\n",
       "</table>\n",
       "</div>"
      ],
      "text/plain": [
       "   REF_DATE     GEO           DGUID  \\\n",
       "0      2024  Canada  2021A000011124   \n",
       "1      2024  Canada  2021A000011124   \n",
       "2      2024  Canada  2021A000011124   \n",
       "3      2024  Canada  2021A000011124   \n",
       "4      2024  Canada  2021A000011124   \n",
       "\n",
       "  Selected characteristics of health care access and experiences  \\\n",
       "0  Total, unmet health care needs in the past 12 ...               \n",
       "1  Total, unmet health care needs in the past 12 ...               \n",
       "2  Total, unmet health care needs in the past 12 ...               \n",
       "3  Total, unmet health care needs in the past 12 ...               \n",
       "4  Total, unmet health care needs in the past 12 ...               \n",
       "\n",
       "  Indigenous group         Gender                    Statistics      UOM  \\\n",
       "0    First Nations  Total, gender                    Percentage  Percent   \n",
       "1    First Nations  Total, gender   Low 95% confidence interval  Percent   \n",
       "2    First Nations  Total, gender  High 95% confidence interval  Percent   \n",
       "3    First Nations           Men+                    Percentage  Percent   \n",
       "4    First Nations           Men+   Low 95% confidence interval  Percent   \n",
       "\n",
       "   UOM_ID SCALAR_FACTOR  SCALAR_ID       VECTOR COORDINATE  VALUE STATUS  \\\n",
       "0     239         units          0  v1663833852  1.1.1.1.1  100.0    NaN   \n",
       "1     239         units          0  v1663833853  1.1.1.1.2  100.0    NaN   \n",
       "2     239         units          0  v1663833854  1.1.1.1.3  100.0    NaN   \n",
       "3     239         units          0  v1663833855  1.1.1.2.1  100.0    NaN   \n",
       "4     239         units          0  v1663833856  1.1.1.2.2  100.0    NaN   \n",
       "\n",
       "   SYMBOL  TERMINATED  DECIMALS  \n",
       "0     NaN         NaN         1  \n",
       "1     NaN         NaN         1  \n",
       "2     NaN         NaN         1  \n",
       "3     NaN         NaN         1  \n",
       "4     NaN         NaN         1  "
      ]
     },
     "execution_count": 38,
     "metadata": {},
     "output_type": "execute_result"
    }
   ],
   "source": [
    "healthcare_df = data_loader('healthcare-access', '41100081')\n",
    "healthcare_df.head()"
   ]
  },
  {
   "cell_type": "code",
   "execution_count": 39,
   "metadata": {},
   "outputs": [
    {
     "name": "stdout",
     "output_type": "stream",
     "text": [
      "<class 'pandas.core.frame.DataFrame'>\n",
      "RangeIndex: 1566 entries, 0 to 1565\n",
      "Data columns (total 18 columns):\n",
      " #   Column                                                          Non-Null Count  Dtype  \n",
      "---  ------                                                          --------------  -----  \n",
      " 0   REF_DATE                                                        1566 non-null   int64  \n",
      " 1   GEO                                                             1566 non-null   object \n",
      " 2   DGUID                                                           1566 non-null   object \n",
      " 3   Selected characteristics of health care access and experiences  1566 non-null   object \n",
      " 4   Indigenous group                                                1566 non-null   object \n",
      " 5   Gender                                                          1566 non-null   object \n",
      " 6   Statistics                                                      1566 non-null   object \n",
      " 7   UOM                                                             1566 non-null   object \n",
      " 8   UOM_ID                                                          1566 non-null   int64  \n",
      " 9   SCALAR_FACTOR                                                   1566 non-null   object \n",
      " 10  SCALAR_ID                                                       1566 non-null   int64  \n",
      " 11  VECTOR                                                          1566 non-null   object \n",
      " 12  COORDINATE                                                      1566 non-null   object \n",
      " 13  VALUE                                                           1530 non-null   float64\n",
      " 14  STATUS                                                          36 non-null     object \n",
      " 15  SYMBOL                                                          0 non-null      float64\n",
      " 16  TERMINATED                                                      0 non-null      float64\n",
      " 17  DECIMALS                                                        1566 non-null   int64  \n",
      "dtypes: float64(3), int64(4), object(11)\n",
      "memory usage: 220.3+ KB\n"
     ]
    }
   ],
   "source": [
    "# Check data types\n",
    "healthcare_df.info()"
   ]
  },
  {
   "attachments": {},
   "cell_type": "markdown",
   "metadata": {},
   "source": [
    "The `value` column shows the percentage of individuals in each Indigenous group (and gender category) who selected a specific healthcare experience"
   ]
  },
  {
   "attachments": {},
   "cell_type": "markdown",
   "metadata": {},
   "source": [
    "## Rename Column Names\n"
   ]
  },
  {
   "cell_type": "code",
   "execution_count": 40,
   "metadata": {},
   "outputs": [
    {
     "data": {
      "text/plain": [
       "Index(['REF_DATE', 'GEO', 'DGUID',\n",
       "       'Selected characteristics of health care access and experiences',\n",
       "       'Indigenous group', 'Gender', 'Statistics', 'UOM', 'UOM_ID',\n",
       "       'SCALAR_FACTOR', 'SCALAR_ID', 'VECTOR', 'COORDINATE', 'VALUE', 'STATUS',\n",
       "       'SYMBOL', 'TERMINATED', 'DECIMALS'],\n",
       "      dtype='object')"
      ]
     },
     "execution_count": 40,
     "metadata": {},
     "output_type": "execute_result"
    }
   ],
   "source": [
    "healthcare_df.columns"
   ]
  },
  {
   "cell_type": "code",
   "execution_count": 41,
   "metadata": {},
   "outputs": [],
   "source": [
    "# change column names to lower case\n",
    "healthcare_df.columns = healthcare_df.columns.str.lower()"
   ]
  },
  {
   "cell_type": "code",
   "execution_count": 42,
   "metadata": {},
   "outputs": [],
   "source": [
    "# replace spaces with underscores\n",
    "healthcare_df.columns = healthcare_df.columns.str.replace(' ', '_')"
   ]
  },
  {
   "cell_type": "code",
   "execution_count": 43,
   "metadata": {},
   "outputs": [],
   "source": [
    "# rename `selected characteristics of health care access and experiences` to `healthcare_access_experience`\n",
    "healthcare_df.rename(columns={'selected_characteristics_of_health_care_access_and_experiences': 'healthcare_access_experience'}, inplace=True)\n"
   ]
  },
  {
   "attachments": {},
   "cell_type": "markdown",
   "metadata": {},
   "source": [
    "## Statistics of the Data"
   ]
  },
  {
   "cell_type": "code",
   "execution_count": 44,
   "metadata": {},
   "outputs": [
    {
     "data": {
      "text/html": [
       "<div>\n",
       "<style scoped>\n",
       "    .dataframe tbody tr th:only-of-type {\n",
       "        vertical-align: middle;\n",
       "    }\n",
       "\n",
       "    .dataframe tbody tr th {\n",
       "        vertical-align: top;\n",
       "    }\n",
       "\n",
       "    .dataframe thead th {\n",
       "        text-align: right;\n",
       "    }\n",
       "</style>\n",
       "<table border=\"1\" class=\"dataframe\">\n",
       "  <thead>\n",
       "    <tr style=\"text-align: right;\">\n",
       "      <th></th>\n",
       "      <th>ref_date</th>\n",
       "      <th>uom_id</th>\n",
       "      <th>scalar_id</th>\n",
       "      <th>value</th>\n",
       "      <th>symbol</th>\n",
       "      <th>terminated</th>\n",
       "      <th>decimals</th>\n",
       "    </tr>\n",
       "  </thead>\n",
       "  <tbody>\n",
       "    <tr>\n",
       "      <th>count</th>\n",
       "      <td>1566.0</td>\n",
       "      <td>1566.0</td>\n",
       "      <td>1566.0</td>\n",
       "      <td>1530.000000</td>\n",
       "      <td>0.0</td>\n",
       "      <td>0.0</td>\n",
       "      <td>1566.0</td>\n",
       "    </tr>\n",
       "    <tr>\n",
       "      <th>mean</th>\n",
       "      <td>2024.0</td>\n",
       "      <td>239.0</td>\n",
       "      <td>0.0</td>\n",
       "      <td>51.694575</td>\n",
       "      <td>NaN</td>\n",
       "      <td>NaN</td>\n",
       "      <td>1.0</td>\n",
       "    </tr>\n",
       "    <tr>\n",
       "      <th>std</th>\n",
       "      <td>0.0</td>\n",
       "      <td>0.0</td>\n",
       "      <td>0.0</td>\n",
       "      <td>34.336181</td>\n",
       "      <td>NaN</td>\n",
       "      <td>NaN</td>\n",
       "      <td>0.0</td>\n",
       "    </tr>\n",
       "    <tr>\n",
       "      <th>min</th>\n",
       "      <td>2024.0</td>\n",
       "      <td>239.0</td>\n",
       "      <td>0.0</td>\n",
       "      <td>2.000000</td>\n",
       "      <td>NaN</td>\n",
       "      <td>NaN</td>\n",
       "      <td>1.0</td>\n",
       "    </tr>\n",
       "    <tr>\n",
       "      <th>25%</th>\n",
       "      <td>2024.0</td>\n",
       "      <td>239.0</td>\n",
       "      <td>0.0</td>\n",
       "      <td>20.900000</td>\n",
       "      <td>NaN</td>\n",
       "      <td>NaN</td>\n",
       "      <td>1.0</td>\n",
       "    </tr>\n",
       "    <tr>\n",
       "      <th>50%</th>\n",
       "      <td>2024.0</td>\n",
       "      <td>239.0</td>\n",
       "      <td>0.0</td>\n",
       "      <td>43.250000</td>\n",
       "      <td>NaN</td>\n",
       "      <td>NaN</td>\n",
       "      <td>1.0</td>\n",
       "    </tr>\n",
       "    <tr>\n",
       "      <th>75%</th>\n",
       "      <td>2024.0</td>\n",
       "      <td>239.0</td>\n",
       "      <td>0.0</td>\n",
       "      <td>89.275000</td>\n",
       "      <td>NaN</td>\n",
       "      <td>NaN</td>\n",
       "      <td>1.0</td>\n",
       "    </tr>\n",
       "    <tr>\n",
       "      <th>max</th>\n",
       "      <td>2024.0</td>\n",
       "      <td>239.0</td>\n",
       "      <td>0.0</td>\n",
       "      <td>100.000000</td>\n",
       "      <td>NaN</td>\n",
       "      <td>NaN</td>\n",
       "      <td>1.0</td>\n",
       "    </tr>\n",
       "  </tbody>\n",
       "</table>\n",
       "</div>"
      ],
      "text/plain": [
       "       ref_date  uom_id  scalar_id        value  symbol  terminated  decimals\n",
       "count    1566.0  1566.0     1566.0  1530.000000     0.0         0.0    1566.0\n",
       "mean     2024.0   239.0        0.0    51.694575     NaN         NaN       1.0\n",
       "std         0.0     0.0        0.0    34.336181     NaN         NaN       0.0\n",
       "min      2024.0   239.0        0.0     2.000000     NaN         NaN       1.0\n",
       "25%      2024.0   239.0        0.0    20.900000     NaN         NaN       1.0\n",
       "50%      2024.0   239.0        0.0    43.250000     NaN         NaN       1.0\n",
       "75%      2024.0   239.0        0.0    89.275000     NaN         NaN       1.0\n",
       "max      2024.0   239.0        0.0   100.000000     NaN         NaN       1.0"
      ]
     },
     "execution_count": 44,
     "metadata": {},
     "output_type": "execute_result"
    }
   ],
   "source": [
    "# statistics of the numerical columns\n",
    "healthcare_df.describe()"
   ]
  },
  {
   "attachments": {},
   "cell_type": "markdown",
   "metadata": {},
   "source": [
    "Since standard deviation is 0 and min and max are the same, it means that all values in the column are the same."
   ]
  },
  {
   "attachments": {},
   "cell_type": "markdown",
   "metadata": {},
   "source": [
    "Since count is 0, it means there are no non-null values in the column."
   ]
  },
  {
   "attachments": {},
   "cell_type": "markdown",
   "metadata": {},
   "source": [
    "Therefore, only the `value` column is useful for analysis."
   ]
  },
  {
   "cell_type": "code",
   "execution_count": 45,
   "metadata": {},
   "outputs": [
    {
     "data": {
      "text/html": [
       "<div>\n",
       "<style scoped>\n",
       "    .dataframe tbody tr th:only-of-type {\n",
       "        vertical-align: middle;\n",
       "    }\n",
       "\n",
       "    .dataframe tbody tr th {\n",
       "        vertical-align: top;\n",
       "    }\n",
       "\n",
       "    .dataframe thead th {\n",
       "        text-align: right;\n",
       "    }\n",
       "</style>\n",
       "<table border=\"1\" class=\"dataframe\">\n",
       "  <thead>\n",
       "    <tr style=\"text-align: right;\">\n",
       "      <th></th>\n",
       "      <th>geo</th>\n",
       "      <th>dguid</th>\n",
       "      <th>healthcare_access_experience</th>\n",
       "      <th>indigenous_group</th>\n",
       "      <th>gender</th>\n",
       "      <th>statistics</th>\n",
       "      <th>uom</th>\n",
       "      <th>scalar_factor</th>\n",
       "      <th>vector</th>\n",
       "      <th>coordinate</th>\n",
       "      <th>status</th>\n",
       "    </tr>\n",
       "  </thead>\n",
       "  <tbody>\n",
       "    <tr>\n",
       "      <th>count</th>\n",
       "      <td>1566</td>\n",
       "      <td>1566</td>\n",
       "      <td>1566</td>\n",
       "      <td>1566</td>\n",
       "      <td>1566</td>\n",
       "      <td>1566</td>\n",
       "      <td>1566</td>\n",
       "      <td>1566</td>\n",
       "      <td>1566</td>\n",
       "      <td>1566</td>\n",
       "      <td>36</td>\n",
       "    </tr>\n",
       "    <tr>\n",
       "      <th>unique</th>\n",
       "      <td>1</td>\n",
       "      <td>1</td>\n",
       "      <td>58</td>\n",
       "      <td>3</td>\n",
       "      <td>3</td>\n",
       "      <td>3</td>\n",
       "      <td>1</td>\n",
       "      <td>1</td>\n",
       "      <td>1566</td>\n",
       "      <td>1566</td>\n",
       "      <td>1</td>\n",
       "    </tr>\n",
       "    <tr>\n",
       "      <th>top</th>\n",
       "      <td>Canada</td>\n",
       "      <td>2021A000011124</td>\n",
       "      <td>Total, unmet health care needs in the past 12 ...</td>\n",
       "      <td>First Nations</td>\n",
       "      <td>Total, gender</td>\n",
       "      <td>Percentage</td>\n",
       "      <td>Percent</td>\n",
       "      <td>units</td>\n",
       "      <td>v1663833852</td>\n",
       "      <td>1.1.1.1.1</td>\n",
       "      <td>F</td>\n",
       "    </tr>\n",
       "    <tr>\n",
       "      <th>freq</th>\n",
       "      <td>1566</td>\n",
       "      <td>1566</td>\n",
       "      <td>27</td>\n",
       "      <td>522</td>\n",
       "      <td>522</td>\n",
       "      <td>522</td>\n",
       "      <td>1566</td>\n",
       "      <td>1566</td>\n",
       "      <td>1</td>\n",
       "      <td>1</td>\n",
       "      <td>36</td>\n",
       "    </tr>\n",
       "  </tbody>\n",
       "</table>\n",
       "</div>"
      ],
      "text/plain": [
       "           geo           dguid  \\\n",
       "count     1566            1566   \n",
       "unique       1               1   \n",
       "top     Canada  2021A000011124   \n",
       "freq      1566            1566   \n",
       "\n",
       "                             healthcare_access_experience indigenous_group  \\\n",
       "count                                                1566             1566   \n",
       "unique                                                 58                3   \n",
       "top     Total, unmet health care needs in the past 12 ...    First Nations   \n",
       "freq                                                   27              522   \n",
       "\n",
       "               gender  statistics      uom scalar_factor       vector  \\\n",
       "count            1566        1566     1566          1566         1566   \n",
       "unique              3           3        1             1         1566   \n",
       "top     Total, gender  Percentage  Percent         units  v1663833852   \n",
       "freq              522         522     1566          1566            1   \n",
       "\n",
       "       coordinate status  \n",
       "count        1566     36  \n",
       "unique       1566      1  \n",
       "top     1.1.1.1.1      F  \n",
       "freq            1     36  "
      ]
     },
     "execution_count": 45,
     "metadata": {},
     "output_type": "execute_result"
    }
   ],
   "source": [
    "# categorical columns\n",
    "healthcare_df.describe(include=['object'])"
   ]
  },
  {
   "attachments": {},
   "cell_type": "markdown",
   "metadata": {},
   "source": [
    "Since unique is 1, it means that all values in these columns are the same. So they are not useful for analysis."
   ]
  },
  {
   "cell_type": "code",
   "execution_count": 49,
   "metadata": {},
   "outputs": [
    {
     "name": "stdout",
     "output_type": "stream",
     "text": [
      "indigenous_group: 3 unique values\n",
      "['First Nations' 'Métis' 'Inuk (Inuit)']\n",
      "\n",
      "gender: 3 unique values\n",
      "['Total, gender' 'Men+' 'Women+']\n",
      "\n",
      "statistics: 3 unique values\n",
      "['Percentage' 'Low 95% confidence interval' 'High 95% confidence interval']\n",
      "\n"
     ]
    }
   ],
   "source": [
    "# unique values in the categorical columns\n",
    "for col in ['indigenous_group', 'gender', 'statistics']:\n",
    "    print(f'{col}: {healthcare_df[col].nunique()} unique values')\n",
    "    print(healthcare_df[col].unique())\n",
    "    print()"
   ]
  },
  {
   "attachments": {},
   "cell_type": "markdown",
   "metadata": {},
   "source": [
    "95% confident that true percentage falls between 'Low 95% confidence interval' and 'High 95% confidence interval'"
   ]
  },
  {
   "cell_type": "code",
   "execution_count": 48,
   "metadata": {},
   "outputs": [
    {
     "data": {
      "text/html": [
       "<div>\n",
       "<style scoped>\n",
       "    .dataframe tbody tr th:only-of-type {\n",
       "        vertical-align: middle;\n",
       "    }\n",
       "\n",
       "    .dataframe tbody tr th {\n",
       "        vertical-align: top;\n",
       "    }\n",
       "\n",
       "    .dataframe thead th {\n",
       "        text-align: right;\n",
       "    }\n",
       "</style>\n",
       "<table border=\"1\" class=\"dataframe\">\n",
       "  <thead>\n",
       "    <tr style=\"text-align: right;\">\n",
       "      <th></th>\n",
       "      <th>ref_date</th>\n",
       "      <th>geo</th>\n",
       "      <th>dguid</th>\n",
       "      <th>healthcare_access_experience</th>\n",
       "      <th>indigenous_group</th>\n",
       "      <th>gender</th>\n",
       "      <th>statistics</th>\n",
       "      <th>uom</th>\n",
       "      <th>uom_id</th>\n",
       "      <th>scalar_factor</th>\n",
       "      <th>scalar_id</th>\n",
       "      <th>vector</th>\n",
       "      <th>coordinate</th>\n",
       "      <th>value</th>\n",
       "      <th>status</th>\n",
       "      <th>symbol</th>\n",
       "      <th>terminated</th>\n",
       "      <th>decimals</th>\n",
       "    </tr>\n",
       "  </thead>\n",
       "  <tbody>\n",
       "    <tr>\n",
       "      <th>30</th>\n",
       "      <td>2024</td>\n",
       "      <td>Canada</td>\n",
       "      <td>2021A000011124</td>\n",
       "      <td>Yes, had an unmet health care need in the past...</td>\n",
       "      <td>First Nations</td>\n",
       "      <td>Men+</td>\n",
       "      <td>Percentage</td>\n",
       "      <td>Percent</td>\n",
       "      <td>239</td>\n",
       "      <td>units</td>\n",
       "      <td>0</td>\n",
       "      <td>v1663833882</td>\n",
       "      <td>1.2.1.2.1</td>\n",
       "      <td>24.4</td>\n",
       "      <td>NaN</td>\n",
       "      <td>NaN</td>\n",
       "      <td>NaN</td>\n",
       "      <td>1</td>\n",
       "    </tr>\n",
       "    <tr>\n",
       "      <th>31</th>\n",
       "      <td>2024</td>\n",
       "      <td>Canada</td>\n",
       "      <td>2021A000011124</td>\n",
       "      <td>Yes, had an unmet health care need in the past...</td>\n",
       "      <td>First Nations</td>\n",
       "      <td>Men+</td>\n",
       "      <td>Low 95% confidence interval</td>\n",
       "      <td>Percent</td>\n",
       "      <td>239</td>\n",
       "      <td>units</td>\n",
       "      <td>0</td>\n",
       "      <td>v1663833883</td>\n",
       "      <td>1.2.1.2.2</td>\n",
       "      <td>19.2</td>\n",
       "      <td>NaN</td>\n",
       "      <td>NaN</td>\n",
       "      <td>NaN</td>\n",
       "      <td>1</td>\n",
       "    </tr>\n",
       "    <tr>\n",
       "      <th>32</th>\n",
       "      <td>2024</td>\n",
       "      <td>Canada</td>\n",
       "      <td>2021A000011124</td>\n",
       "      <td>Yes, had an unmet health care need in the past...</td>\n",
       "      <td>First Nations</td>\n",
       "      <td>Men+</td>\n",
       "      <td>High 95% confidence interval</td>\n",
       "      <td>Percent</td>\n",
       "      <td>239</td>\n",
       "      <td>units</td>\n",
       "      <td>0</td>\n",
       "      <td>v1663833884</td>\n",
       "      <td>1.2.1.2.3</td>\n",
       "      <td>30.3</td>\n",
       "      <td>NaN</td>\n",
       "      <td>NaN</td>\n",
       "      <td>NaN</td>\n",
       "      <td>1</td>\n",
       "    </tr>\n",
       "  </tbody>\n",
       "</table>\n",
       "</div>"
      ],
      "text/plain": [
       "    ref_date     geo           dguid  \\\n",
       "30      2024  Canada  2021A000011124   \n",
       "31      2024  Canada  2021A000011124   \n",
       "32      2024  Canada  2021A000011124   \n",
       "\n",
       "                         healthcare_access_experience indigenous_group gender  \\\n",
       "30  Yes, had an unmet health care need in the past...    First Nations   Men+   \n",
       "31  Yes, had an unmet health care need in the past...    First Nations   Men+   \n",
       "32  Yes, had an unmet health care need in the past...    First Nations   Men+   \n",
       "\n",
       "                      statistics      uom  uom_id scalar_factor  scalar_id  \\\n",
       "30                    Percentage  Percent     239         units          0   \n",
       "31   Low 95% confidence interval  Percent     239         units          0   \n",
       "32  High 95% confidence interval  Percent     239         units          0   \n",
       "\n",
       "         vector coordinate  value status  symbol  terminated  decimals  \n",
       "30  v1663833882  1.2.1.2.1   24.4    NaN     NaN         NaN         1  \n",
       "31  v1663833883  1.2.1.2.2   19.2    NaN     NaN         NaN         1  \n",
       "32  v1663833884  1.2.1.2.3   30.3    NaN     NaN         NaN         1  "
      ]
     },
     "execution_count": 48,
     "metadata": {},
     "output_type": "execute_result"
    }
   ],
   "source": [
    "healthcare_df[\n",
    "    (healthcare_df['indigenous_group'] == 'First Nations') &\n",
    "    (healthcare_df['gender'] == 'Men+') &\n",
    "    (healthcare_df['healthcare_access_experience'] == 'Yes, had an unmet health care need in the past 12 months')\n",
    "]"
   ]
  },
  {
   "attachments": {},
   "cell_type": "markdown",
   "metadata": {},
   "source": [
    "We'll filter for statistics == 'Percentage'"
   ]
  },
  {
   "cell_type": "code",
   "execution_count": 50,
   "metadata": {},
   "outputs": [],
   "source": [
    "# filter statistics == 'Percentage'\n",
    "hc_filtered_df = healthcare_df[healthcare_df['statistics'] == 'Percentage']"
   ]
  },
  {
   "attachments": {},
   "cell_type": "markdown",
   "metadata": {},
   "source": [
    "## Drop Unnecessary Columns"
   ]
  },
  {
   "cell_type": "code",
   "execution_count": 51,
   "metadata": {},
   "outputs": [
    {
     "data": {
      "text/plain": [
       "Index(['ref_date', 'geo', 'dguid', 'healthcare_access_experience',\n",
       "       'indigenous_group', 'gender', 'statistics', 'uom', 'uom_id',\n",
       "       'scalar_factor', 'scalar_id', 'vector', 'coordinate', 'value', 'status',\n",
       "       'symbol', 'terminated', 'decimals'],\n",
       "      dtype='object')"
      ]
     },
     "execution_count": 51,
     "metadata": {},
     "output_type": "execute_result"
    }
   ],
   "source": [
    "hc_filtered_df.columns"
   ]
  },
  {
   "cell_type": "code",
   "execution_count": 52,
   "metadata": {},
   "outputs": [],
   "source": [
    "selected_cols = ['indigenous_group', 'gender', 'healthcare_access_experience', 'value']\n",
    "\n",
    "hc_filtered_df = hc_filtered_df[selected_cols]"
   ]
  },
  {
   "attachments": {},
   "cell_type": "markdown",
   "metadata": {},
   "source": [
    "## Drop Missing Values "
   ]
  },
  {
   "cell_type": "code",
   "execution_count": 53,
   "metadata": {},
   "outputs": [
    {
     "data": {
      "text/html": [
       "<div>\n",
       "<style scoped>\n",
       "    .dataframe tbody tr th:only-of-type {\n",
       "        vertical-align: middle;\n",
       "    }\n",
       "\n",
       "    .dataframe tbody tr th {\n",
       "        vertical-align: top;\n",
       "    }\n",
       "\n",
       "    .dataframe thead th {\n",
       "        text-align: right;\n",
       "    }\n",
       "</style>\n",
       "<table border=\"1\" class=\"dataframe\">\n",
       "  <thead>\n",
       "    <tr style=\"text-align: right;\">\n",
       "      <th></th>\n",
       "      <th>count</th>\n",
       "      <th>proportion</th>\n",
       "    </tr>\n",
       "  </thead>\n",
       "  <tbody>\n",
       "    <tr>\n",
       "      <th>indigenous_group</th>\n",
       "      <td>0</td>\n",
       "      <td>0.000000</td>\n",
       "    </tr>\n",
       "    <tr>\n",
       "      <th>gender</th>\n",
       "      <td>0</td>\n",
       "      <td>0.000000</td>\n",
       "    </tr>\n",
       "    <tr>\n",
       "      <th>healthcare_access_experience</th>\n",
       "      <td>0</td>\n",
       "      <td>0.000000</td>\n",
       "    </tr>\n",
       "    <tr>\n",
       "      <th>value</th>\n",
       "      <td>12</td>\n",
       "      <td>0.022989</td>\n",
       "    </tr>\n",
       "  </tbody>\n",
       "</table>\n",
       "</div>"
      ],
      "text/plain": [
       "                              count  proportion\n",
       "indigenous_group                  0    0.000000\n",
       "gender                            0    0.000000\n",
       "healthcare_access_experience      0    0.000000\n",
       "value                            12    0.022989"
      ]
     },
     "execution_count": 53,
     "metadata": {},
     "output_type": "execute_result"
    }
   ],
   "source": [
    "# Check NA value counts and proportions\n",
    "na_counts = hc_filtered_df.isna().sum()\n",
    "na_proportions = hc_filtered_df.isna().mean()\n",
    "na_summary = pd.DataFrame({'count': na_counts, 'proportion': na_proportions})\n",
    "na_summary"
   ]
  },
  {
   "attachments": {},
   "cell_type": "markdown",
   "metadata": {},
   "source": [
    "NA values only take up ~2% of the data, so we can drop them"
   ]
  },
  {
   "cell_type": "code",
   "execution_count": 56,
   "metadata": {},
   "outputs": [
    {
     "name": "stdout",
     "output_type": "stream",
     "text": [
      "Dropped 12 rows with NA values\n"
     ]
    }
   ],
   "source": [
    "# Drop rows with NA values\n",
    "hc_cleaned_df = hc_filtered_df.dropna()\n",
    "print(f\"Dropped {hc_filtered_df.shape[0] - hc_cleaned_df.shape[0]} rows with NA values\")"
   ]
  }
 ],
 "metadata": {
  "kernelspec": {
   "display_name": "Python 3",
   "language": "python",
   "name": "python3"
  },
  "language_info": {
   "codemirror_mode": {
    "name": "ipython",
    "version": 3
   },
   "file_extension": ".py",
   "mimetype": "text/x-python",
   "name": "python",
   "nbconvert_exporter": "python",
   "pygments_lexer": "ipython3",
   "version": "3.10.0"
  },
  "orig_nbformat": 4,
  "vscode": {
   "interpreter": {
    "hash": "aee8b7b246df8f9039afb4144a1f6fd8d2ca17a180786b69acc140d282b71a49"
   }
  }
 },
 "nbformat": 4,
 "nbformat_minor": 2
}
