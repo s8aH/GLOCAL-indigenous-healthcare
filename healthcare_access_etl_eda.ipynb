{
 "cells": [
  {
   "attachments": {},
   "cell_type": "markdown",
   "metadata": {},
   "source": [
    "Primary Question: \n",
    "- What factors influence Indigenous healthcare access? \n",
    "- Patterns of healthcare access among different Indigenous groups"
   ]
  },
  {
   "attachments": {},
   "cell_type": "markdown",
   "metadata": {},
   "source": [
    "> Health Gaps: Compare healthcare access between Indigenous and non-Indigenous populations"
   ]
  },
  {
   "attachments": {},
   "cell_type": "markdown",
   "metadata": {},
   "source": [
    "> Within-group Analysis: compare First Nations, Métis, and Inuit populations, or rural vs urban Indigenous populations"
   ]
  },
  {
   "cell_type": "code",
   "execution_count": 22,
   "metadata": {},
   "outputs": [],
   "source": [
    "import pandas as pd\n",
    "import numpy as np"
   ]
  },
  {
   "attachments": {},
   "cell_type": "markdown",
   "metadata": {},
   "source": [
    "# Healthcare Access"
   ]
  },
  {
   "attachments": {},
   "cell_type": "markdown",
   "metadata": {},
   "source": [
    "## Load Data"
   ]
  },
  {
   "cell_type": "code",
   "execution_count": 2,
   "metadata": {},
   "outputs": [],
   "source": [
    "def data_loader(data_type, table_name):\n",
    "    path = f'data/{data_type}/{table_name}-eng/{table_name}.csv'\n",
    "    df = pd.read_csv(path)\n",
    "    return df"
   ]
  },
  {
   "cell_type": "code",
   "execution_count": 3,
   "metadata": {},
   "outputs": [
    {
     "data": {
      "text/html": [
       "<div>\n",
       "<style scoped>\n",
       "    .dataframe tbody tr th:only-of-type {\n",
       "        vertical-align: middle;\n",
       "    }\n",
       "\n",
       "    .dataframe tbody tr th {\n",
       "        vertical-align: top;\n",
       "    }\n",
       "\n",
       "    .dataframe thead th {\n",
       "        text-align: right;\n",
       "    }\n",
       "</style>\n",
       "<table border=\"1\" class=\"dataframe\">\n",
       "  <thead>\n",
       "    <tr style=\"text-align: right;\">\n",
       "      <th></th>\n",
       "      <th>REF_DATE</th>\n",
       "      <th>GEO</th>\n",
       "      <th>DGUID</th>\n",
       "      <th>Selected characteristics of health care access and experiences</th>\n",
       "      <th>Indigenous group</th>\n",
       "      <th>Gender</th>\n",
       "      <th>Statistics</th>\n",
       "      <th>UOM</th>\n",
       "      <th>UOM_ID</th>\n",
       "      <th>SCALAR_FACTOR</th>\n",
       "      <th>SCALAR_ID</th>\n",
       "      <th>VECTOR</th>\n",
       "      <th>COORDINATE</th>\n",
       "      <th>VALUE</th>\n",
       "      <th>STATUS</th>\n",
       "      <th>SYMBOL</th>\n",
       "      <th>TERMINATED</th>\n",
       "      <th>DECIMALS</th>\n",
       "    </tr>\n",
       "  </thead>\n",
       "  <tbody>\n",
       "    <tr>\n",
       "      <th>0</th>\n",
       "      <td>2024</td>\n",
       "      <td>Canada</td>\n",
       "      <td>2021A000011124</td>\n",
       "      <td>Total, unmet health care needs in the past 12 ...</td>\n",
       "      <td>First Nations</td>\n",
       "      <td>Total, gender</td>\n",
       "      <td>Percentage</td>\n",
       "      <td>Percent</td>\n",
       "      <td>239</td>\n",
       "      <td>units</td>\n",
       "      <td>0</td>\n",
       "      <td>v1663833852</td>\n",
       "      <td>1.1.1.1.1</td>\n",
       "      <td>100.0</td>\n",
       "      <td>NaN</td>\n",
       "      <td>NaN</td>\n",
       "      <td>NaN</td>\n",
       "      <td>1</td>\n",
       "    </tr>\n",
       "    <tr>\n",
       "      <th>1</th>\n",
       "      <td>2024</td>\n",
       "      <td>Canada</td>\n",
       "      <td>2021A000011124</td>\n",
       "      <td>Total, unmet health care needs in the past 12 ...</td>\n",
       "      <td>First Nations</td>\n",
       "      <td>Total, gender</td>\n",
       "      <td>Low 95% confidence interval</td>\n",
       "      <td>Percent</td>\n",
       "      <td>239</td>\n",
       "      <td>units</td>\n",
       "      <td>0</td>\n",
       "      <td>v1663833853</td>\n",
       "      <td>1.1.1.1.2</td>\n",
       "      <td>100.0</td>\n",
       "      <td>NaN</td>\n",
       "      <td>NaN</td>\n",
       "      <td>NaN</td>\n",
       "      <td>1</td>\n",
       "    </tr>\n",
       "    <tr>\n",
       "      <th>2</th>\n",
       "      <td>2024</td>\n",
       "      <td>Canada</td>\n",
       "      <td>2021A000011124</td>\n",
       "      <td>Total, unmet health care needs in the past 12 ...</td>\n",
       "      <td>First Nations</td>\n",
       "      <td>Total, gender</td>\n",
       "      <td>High 95% confidence interval</td>\n",
       "      <td>Percent</td>\n",
       "      <td>239</td>\n",
       "      <td>units</td>\n",
       "      <td>0</td>\n",
       "      <td>v1663833854</td>\n",
       "      <td>1.1.1.1.3</td>\n",
       "      <td>100.0</td>\n",
       "      <td>NaN</td>\n",
       "      <td>NaN</td>\n",
       "      <td>NaN</td>\n",
       "      <td>1</td>\n",
       "    </tr>\n",
       "    <tr>\n",
       "      <th>3</th>\n",
       "      <td>2024</td>\n",
       "      <td>Canada</td>\n",
       "      <td>2021A000011124</td>\n",
       "      <td>Total, unmet health care needs in the past 12 ...</td>\n",
       "      <td>First Nations</td>\n",
       "      <td>Men+</td>\n",
       "      <td>Percentage</td>\n",
       "      <td>Percent</td>\n",
       "      <td>239</td>\n",
       "      <td>units</td>\n",
       "      <td>0</td>\n",
       "      <td>v1663833855</td>\n",
       "      <td>1.1.1.2.1</td>\n",
       "      <td>100.0</td>\n",
       "      <td>NaN</td>\n",
       "      <td>NaN</td>\n",
       "      <td>NaN</td>\n",
       "      <td>1</td>\n",
       "    </tr>\n",
       "    <tr>\n",
       "      <th>4</th>\n",
       "      <td>2024</td>\n",
       "      <td>Canada</td>\n",
       "      <td>2021A000011124</td>\n",
       "      <td>Total, unmet health care needs in the past 12 ...</td>\n",
       "      <td>First Nations</td>\n",
       "      <td>Men+</td>\n",
       "      <td>Low 95% confidence interval</td>\n",
       "      <td>Percent</td>\n",
       "      <td>239</td>\n",
       "      <td>units</td>\n",
       "      <td>0</td>\n",
       "      <td>v1663833856</td>\n",
       "      <td>1.1.1.2.2</td>\n",
       "      <td>100.0</td>\n",
       "      <td>NaN</td>\n",
       "      <td>NaN</td>\n",
       "      <td>NaN</td>\n",
       "      <td>1</td>\n",
       "    </tr>\n",
       "  </tbody>\n",
       "</table>\n",
       "</div>"
      ],
      "text/plain": [
       "   REF_DATE     GEO           DGUID  \\\n",
       "0      2024  Canada  2021A000011124   \n",
       "1      2024  Canada  2021A000011124   \n",
       "2      2024  Canada  2021A000011124   \n",
       "3      2024  Canada  2021A000011124   \n",
       "4      2024  Canada  2021A000011124   \n",
       "\n",
       "  Selected characteristics of health care access and experiences  \\\n",
       "0  Total, unmet health care needs in the past 12 ...               \n",
       "1  Total, unmet health care needs in the past 12 ...               \n",
       "2  Total, unmet health care needs in the past 12 ...               \n",
       "3  Total, unmet health care needs in the past 12 ...               \n",
       "4  Total, unmet health care needs in the past 12 ...               \n",
       "\n",
       "  Indigenous group         Gender                    Statistics      UOM  \\\n",
       "0    First Nations  Total, gender                    Percentage  Percent   \n",
       "1    First Nations  Total, gender   Low 95% confidence interval  Percent   \n",
       "2    First Nations  Total, gender  High 95% confidence interval  Percent   \n",
       "3    First Nations           Men+                    Percentage  Percent   \n",
       "4    First Nations           Men+   Low 95% confidence interval  Percent   \n",
       "\n",
       "   UOM_ID SCALAR_FACTOR  SCALAR_ID       VECTOR COORDINATE  VALUE STATUS  \\\n",
       "0     239         units          0  v1663833852  1.1.1.1.1  100.0    NaN   \n",
       "1     239         units          0  v1663833853  1.1.1.1.2  100.0    NaN   \n",
       "2     239         units          0  v1663833854  1.1.1.1.3  100.0    NaN   \n",
       "3     239         units          0  v1663833855  1.1.1.2.1  100.0    NaN   \n",
       "4     239         units          0  v1663833856  1.1.1.2.2  100.0    NaN   \n",
       "\n",
       "   SYMBOL  TERMINATED  DECIMALS  \n",
       "0     NaN         NaN         1  \n",
       "1     NaN         NaN         1  \n",
       "2     NaN         NaN         1  \n",
       "3     NaN         NaN         1  \n",
       "4     NaN         NaN         1  "
      ]
     },
     "execution_count": 3,
     "metadata": {},
     "output_type": "execute_result"
    }
   ],
   "source": [
    "healthcare_df = data_loader('healthcare-access', '41100081')\n",
    "healthcare_df.head()"
   ]
  },
  {
   "cell_type": "code",
   "execution_count": 4,
   "metadata": {},
   "outputs": [
    {
     "name": "stdout",
     "output_type": "stream",
     "text": [
      "<class 'pandas.core.frame.DataFrame'>\n",
      "RangeIndex: 1566 entries, 0 to 1565\n",
      "Data columns (total 18 columns):\n",
      " #   Column                                                          Non-Null Count  Dtype  \n",
      "---  ------                                                          --------------  -----  \n",
      " 0   REF_DATE                                                        1566 non-null   int64  \n",
      " 1   GEO                                                             1566 non-null   object \n",
      " 2   DGUID                                                           1566 non-null   object \n",
      " 3   Selected characteristics of health care access and experiences  1566 non-null   object \n",
      " 4   Indigenous group                                                1566 non-null   object \n",
      " 5   Gender                                                          1566 non-null   object \n",
      " 6   Statistics                                                      1566 non-null   object \n",
      " 7   UOM                                                             1566 non-null   object \n",
      " 8   UOM_ID                                                          1566 non-null   int64  \n",
      " 9   SCALAR_FACTOR                                                   1566 non-null   object \n",
      " 10  SCALAR_ID                                                       1566 non-null   int64  \n",
      " 11  VECTOR                                                          1566 non-null   object \n",
      " 12  COORDINATE                                                      1566 non-null   object \n",
      " 13  VALUE                                                           1530 non-null   float64\n",
      " 14  STATUS                                                          36 non-null     object \n",
      " 15  SYMBOL                                                          0 non-null      float64\n",
      " 16  TERMINATED                                                      0 non-null      float64\n",
      " 17  DECIMALS                                                        1566 non-null   int64  \n",
      "dtypes: float64(3), int64(4), object(11)\n",
      "memory usage: 220.3+ KB\n"
     ]
    }
   ],
   "source": [
    "# Check data types\n",
    "healthcare_df.info()"
   ]
  },
  {
   "attachments": {},
   "cell_type": "markdown",
   "metadata": {},
   "source": [
    "The `value` column shows the percentage of individuals in each Indigenous group (and gender category) who selected a specific healthcare experience"
   ]
  },
  {
   "attachments": {},
   "cell_type": "markdown",
   "metadata": {},
   "source": [
    "## Rename Column Names\n"
   ]
  },
  {
   "cell_type": "code",
   "execution_count": 5,
   "metadata": {},
   "outputs": [
    {
     "data": {
      "text/plain": [
       "Index(['REF_DATE', 'GEO', 'DGUID',\n",
       "       'Selected characteristics of health care access and experiences',\n",
       "       'Indigenous group', 'Gender', 'Statistics', 'UOM', 'UOM_ID',\n",
       "       'SCALAR_FACTOR', 'SCALAR_ID', 'VECTOR', 'COORDINATE', 'VALUE', 'STATUS',\n",
       "       'SYMBOL', 'TERMINATED', 'DECIMALS'],\n",
       "      dtype='object')"
      ]
     },
     "execution_count": 5,
     "metadata": {},
     "output_type": "execute_result"
    }
   ],
   "source": [
    "healthcare_df.columns"
   ]
  },
  {
   "cell_type": "code",
   "execution_count": 6,
   "metadata": {},
   "outputs": [],
   "source": [
    "# change column names to lower case\n",
    "healthcare_df.columns = healthcare_df.columns.str.lower()"
   ]
  },
  {
   "cell_type": "code",
   "execution_count": 7,
   "metadata": {},
   "outputs": [],
   "source": [
    "# replace spaces with underscores\n",
    "healthcare_df.columns = healthcare_df.columns.str.replace(' ', '_')"
   ]
  },
  {
   "cell_type": "code",
   "execution_count": 8,
   "metadata": {},
   "outputs": [],
   "source": [
    "# rename `selected characteristics of health care access and experiences` to `healthcare_access_experience`\n",
    "healthcare_df.rename(columns={'selected_characteristics_of_health_care_access_and_experiences': 'healthcare_access_experience'}, inplace=True)\n"
   ]
  },
  {
   "attachments": {},
   "cell_type": "markdown",
   "metadata": {},
   "source": [
    "## Statistics of the Data"
   ]
  },
  {
   "cell_type": "code",
   "execution_count": 9,
   "metadata": {},
   "outputs": [
    {
     "data": {
      "text/html": [
       "<div>\n",
       "<style scoped>\n",
       "    .dataframe tbody tr th:only-of-type {\n",
       "        vertical-align: middle;\n",
       "    }\n",
       "\n",
       "    .dataframe tbody tr th {\n",
       "        vertical-align: top;\n",
       "    }\n",
       "\n",
       "    .dataframe thead th {\n",
       "        text-align: right;\n",
       "    }\n",
       "</style>\n",
       "<table border=\"1\" class=\"dataframe\">\n",
       "  <thead>\n",
       "    <tr style=\"text-align: right;\">\n",
       "      <th></th>\n",
       "      <th>ref_date</th>\n",
       "      <th>uom_id</th>\n",
       "      <th>scalar_id</th>\n",
       "      <th>value</th>\n",
       "      <th>symbol</th>\n",
       "      <th>terminated</th>\n",
       "      <th>decimals</th>\n",
       "    </tr>\n",
       "  </thead>\n",
       "  <tbody>\n",
       "    <tr>\n",
       "      <th>count</th>\n",
       "      <td>1566.0</td>\n",
       "      <td>1566.0</td>\n",
       "      <td>1566.0</td>\n",
       "      <td>1530.000000</td>\n",
       "      <td>0.0</td>\n",
       "      <td>0.0</td>\n",
       "      <td>1566.0</td>\n",
       "    </tr>\n",
       "    <tr>\n",
       "      <th>mean</th>\n",
       "      <td>2024.0</td>\n",
       "      <td>239.0</td>\n",
       "      <td>0.0</td>\n",
       "      <td>51.694575</td>\n",
       "      <td>NaN</td>\n",
       "      <td>NaN</td>\n",
       "      <td>1.0</td>\n",
       "    </tr>\n",
       "    <tr>\n",
       "      <th>std</th>\n",
       "      <td>0.0</td>\n",
       "      <td>0.0</td>\n",
       "      <td>0.0</td>\n",
       "      <td>34.336181</td>\n",
       "      <td>NaN</td>\n",
       "      <td>NaN</td>\n",
       "      <td>0.0</td>\n",
       "    </tr>\n",
       "    <tr>\n",
       "      <th>min</th>\n",
       "      <td>2024.0</td>\n",
       "      <td>239.0</td>\n",
       "      <td>0.0</td>\n",
       "      <td>2.000000</td>\n",
       "      <td>NaN</td>\n",
       "      <td>NaN</td>\n",
       "      <td>1.0</td>\n",
       "    </tr>\n",
       "    <tr>\n",
       "      <th>25%</th>\n",
       "      <td>2024.0</td>\n",
       "      <td>239.0</td>\n",
       "      <td>0.0</td>\n",
       "      <td>20.900000</td>\n",
       "      <td>NaN</td>\n",
       "      <td>NaN</td>\n",
       "      <td>1.0</td>\n",
       "    </tr>\n",
       "    <tr>\n",
       "      <th>50%</th>\n",
       "      <td>2024.0</td>\n",
       "      <td>239.0</td>\n",
       "      <td>0.0</td>\n",
       "      <td>43.250000</td>\n",
       "      <td>NaN</td>\n",
       "      <td>NaN</td>\n",
       "      <td>1.0</td>\n",
       "    </tr>\n",
       "    <tr>\n",
       "      <th>75%</th>\n",
       "      <td>2024.0</td>\n",
       "      <td>239.0</td>\n",
       "      <td>0.0</td>\n",
       "      <td>89.275000</td>\n",
       "      <td>NaN</td>\n",
       "      <td>NaN</td>\n",
       "      <td>1.0</td>\n",
       "    </tr>\n",
       "    <tr>\n",
       "      <th>max</th>\n",
       "      <td>2024.0</td>\n",
       "      <td>239.0</td>\n",
       "      <td>0.0</td>\n",
       "      <td>100.000000</td>\n",
       "      <td>NaN</td>\n",
       "      <td>NaN</td>\n",
       "      <td>1.0</td>\n",
       "    </tr>\n",
       "  </tbody>\n",
       "</table>\n",
       "</div>"
      ],
      "text/plain": [
       "       ref_date  uom_id  scalar_id        value  symbol  terminated  decimals\n",
       "count    1566.0  1566.0     1566.0  1530.000000     0.0         0.0    1566.0\n",
       "mean     2024.0   239.0        0.0    51.694575     NaN         NaN       1.0\n",
       "std         0.0     0.0        0.0    34.336181     NaN         NaN       0.0\n",
       "min      2024.0   239.0        0.0     2.000000     NaN         NaN       1.0\n",
       "25%      2024.0   239.0        0.0    20.900000     NaN         NaN       1.0\n",
       "50%      2024.0   239.0        0.0    43.250000     NaN         NaN       1.0\n",
       "75%      2024.0   239.0        0.0    89.275000     NaN         NaN       1.0\n",
       "max      2024.0   239.0        0.0   100.000000     NaN         NaN       1.0"
      ]
     },
     "execution_count": 9,
     "metadata": {},
     "output_type": "execute_result"
    }
   ],
   "source": [
    "# statistics of the numerical columns\n",
    "healthcare_df.describe()"
   ]
  },
  {
   "attachments": {},
   "cell_type": "markdown",
   "metadata": {},
   "source": [
    "Since standard deviation is 0 and min and max are the same, it means that all values in the column are the same."
   ]
  },
  {
   "attachments": {},
   "cell_type": "markdown",
   "metadata": {},
   "source": [
    "Since count is 0, it means there are no non-null values in the column."
   ]
  },
  {
   "attachments": {},
   "cell_type": "markdown",
   "metadata": {},
   "source": [
    "Therefore, only the `value` column is useful for analysis."
   ]
  },
  {
   "cell_type": "code",
   "execution_count": 10,
   "metadata": {},
   "outputs": [
    {
     "data": {
      "text/html": [
       "<div>\n",
       "<style scoped>\n",
       "    .dataframe tbody tr th:only-of-type {\n",
       "        vertical-align: middle;\n",
       "    }\n",
       "\n",
       "    .dataframe tbody tr th {\n",
       "        vertical-align: top;\n",
       "    }\n",
       "\n",
       "    .dataframe thead th {\n",
       "        text-align: right;\n",
       "    }\n",
       "</style>\n",
       "<table border=\"1\" class=\"dataframe\">\n",
       "  <thead>\n",
       "    <tr style=\"text-align: right;\">\n",
       "      <th></th>\n",
       "      <th>geo</th>\n",
       "      <th>dguid</th>\n",
       "      <th>healthcare_access_experience</th>\n",
       "      <th>indigenous_group</th>\n",
       "      <th>gender</th>\n",
       "      <th>statistics</th>\n",
       "      <th>uom</th>\n",
       "      <th>scalar_factor</th>\n",
       "      <th>vector</th>\n",
       "      <th>coordinate</th>\n",
       "      <th>status</th>\n",
       "    </tr>\n",
       "  </thead>\n",
       "  <tbody>\n",
       "    <tr>\n",
       "      <th>count</th>\n",
       "      <td>1566</td>\n",
       "      <td>1566</td>\n",
       "      <td>1566</td>\n",
       "      <td>1566</td>\n",
       "      <td>1566</td>\n",
       "      <td>1566</td>\n",
       "      <td>1566</td>\n",
       "      <td>1566</td>\n",
       "      <td>1566</td>\n",
       "      <td>1566</td>\n",
       "      <td>36</td>\n",
       "    </tr>\n",
       "    <tr>\n",
       "      <th>unique</th>\n",
       "      <td>1</td>\n",
       "      <td>1</td>\n",
       "      <td>58</td>\n",
       "      <td>3</td>\n",
       "      <td>3</td>\n",
       "      <td>3</td>\n",
       "      <td>1</td>\n",
       "      <td>1</td>\n",
       "      <td>1566</td>\n",
       "      <td>1566</td>\n",
       "      <td>1</td>\n",
       "    </tr>\n",
       "    <tr>\n",
       "      <th>top</th>\n",
       "      <td>Canada</td>\n",
       "      <td>2021A000011124</td>\n",
       "      <td>Total, unmet health care needs in the past 12 ...</td>\n",
       "      <td>First Nations</td>\n",
       "      <td>Total, gender</td>\n",
       "      <td>Percentage</td>\n",
       "      <td>Percent</td>\n",
       "      <td>units</td>\n",
       "      <td>v1663833852</td>\n",
       "      <td>1.1.1.1.1</td>\n",
       "      <td>F</td>\n",
       "    </tr>\n",
       "    <tr>\n",
       "      <th>freq</th>\n",
       "      <td>1566</td>\n",
       "      <td>1566</td>\n",
       "      <td>27</td>\n",
       "      <td>522</td>\n",
       "      <td>522</td>\n",
       "      <td>522</td>\n",
       "      <td>1566</td>\n",
       "      <td>1566</td>\n",
       "      <td>1</td>\n",
       "      <td>1</td>\n",
       "      <td>36</td>\n",
       "    </tr>\n",
       "  </tbody>\n",
       "</table>\n",
       "</div>"
      ],
      "text/plain": [
       "           geo           dguid  \\\n",
       "count     1566            1566   \n",
       "unique       1               1   \n",
       "top     Canada  2021A000011124   \n",
       "freq      1566            1566   \n",
       "\n",
       "                             healthcare_access_experience indigenous_group  \\\n",
       "count                                                1566             1566   \n",
       "unique                                                 58                3   \n",
       "top     Total, unmet health care needs in the past 12 ...    First Nations   \n",
       "freq                                                   27              522   \n",
       "\n",
       "               gender  statistics      uom scalar_factor       vector  \\\n",
       "count            1566        1566     1566          1566         1566   \n",
       "unique              3           3        1             1         1566   \n",
       "top     Total, gender  Percentage  Percent         units  v1663833852   \n",
       "freq              522         522     1566          1566            1   \n",
       "\n",
       "       coordinate status  \n",
       "count        1566     36  \n",
       "unique       1566      1  \n",
       "top     1.1.1.1.1      F  \n",
       "freq            1     36  "
      ]
     },
     "execution_count": 10,
     "metadata": {},
     "output_type": "execute_result"
    }
   ],
   "source": [
    "# categorical columns\n",
    "healthcare_df.describe(include=['object'])"
   ]
  },
  {
   "attachments": {},
   "cell_type": "markdown",
   "metadata": {},
   "source": [
    "Since unique is 1, it means that all values in these columns are the same. So they are not useful for analysis."
   ]
  },
  {
   "cell_type": "code",
   "execution_count": 11,
   "metadata": {},
   "outputs": [
    {
     "name": "stdout",
     "output_type": "stream",
     "text": [
      "indigenous_group: 3 unique values\n",
      "['First Nations' 'Métis' 'Inuk (Inuit)']\n",
      "\n",
      "gender: 3 unique values\n",
      "['Total, gender' 'Men+' 'Women+']\n",
      "\n",
      "statistics: 3 unique values\n",
      "['Percentage' 'Low 95% confidence interval' 'High 95% confidence interval']\n",
      "\n"
     ]
    }
   ],
   "source": [
    "# unique values in the categorical columns\n",
    "for col in ['indigenous_group', 'gender', 'statistics']:\n",
    "    print(f'{col}: {healthcare_df[col].nunique()} unique values')\n",
    "    print(healthcare_df[col].unique())\n",
    "    print()"
   ]
  },
  {
   "attachments": {},
   "cell_type": "markdown",
   "metadata": {},
   "source": [
    "95% confident that true percentage falls between 'Low 95% confidence interval' and 'High 95% confidence interval'"
   ]
  },
  {
   "cell_type": "code",
   "execution_count": 12,
   "metadata": {},
   "outputs": [
    {
     "data": {
      "text/html": [
       "<div>\n",
       "<style scoped>\n",
       "    .dataframe tbody tr th:only-of-type {\n",
       "        vertical-align: middle;\n",
       "    }\n",
       "\n",
       "    .dataframe tbody tr th {\n",
       "        vertical-align: top;\n",
       "    }\n",
       "\n",
       "    .dataframe thead th {\n",
       "        text-align: right;\n",
       "    }\n",
       "</style>\n",
       "<table border=\"1\" class=\"dataframe\">\n",
       "  <thead>\n",
       "    <tr style=\"text-align: right;\">\n",
       "      <th></th>\n",
       "      <th>ref_date</th>\n",
       "      <th>geo</th>\n",
       "      <th>dguid</th>\n",
       "      <th>healthcare_access_experience</th>\n",
       "      <th>indigenous_group</th>\n",
       "      <th>gender</th>\n",
       "      <th>statistics</th>\n",
       "      <th>uom</th>\n",
       "      <th>uom_id</th>\n",
       "      <th>scalar_factor</th>\n",
       "      <th>scalar_id</th>\n",
       "      <th>vector</th>\n",
       "      <th>coordinate</th>\n",
       "      <th>value</th>\n",
       "      <th>status</th>\n",
       "      <th>symbol</th>\n",
       "      <th>terminated</th>\n",
       "      <th>decimals</th>\n",
       "    </tr>\n",
       "  </thead>\n",
       "  <tbody>\n",
       "    <tr>\n",
       "      <th>30</th>\n",
       "      <td>2024</td>\n",
       "      <td>Canada</td>\n",
       "      <td>2021A000011124</td>\n",
       "      <td>Yes, had an unmet health care need in the past...</td>\n",
       "      <td>First Nations</td>\n",
       "      <td>Men+</td>\n",
       "      <td>Percentage</td>\n",
       "      <td>Percent</td>\n",
       "      <td>239</td>\n",
       "      <td>units</td>\n",
       "      <td>0</td>\n",
       "      <td>v1663833882</td>\n",
       "      <td>1.2.1.2.1</td>\n",
       "      <td>24.4</td>\n",
       "      <td>NaN</td>\n",
       "      <td>NaN</td>\n",
       "      <td>NaN</td>\n",
       "      <td>1</td>\n",
       "    </tr>\n",
       "    <tr>\n",
       "      <th>31</th>\n",
       "      <td>2024</td>\n",
       "      <td>Canada</td>\n",
       "      <td>2021A000011124</td>\n",
       "      <td>Yes, had an unmet health care need in the past...</td>\n",
       "      <td>First Nations</td>\n",
       "      <td>Men+</td>\n",
       "      <td>Low 95% confidence interval</td>\n",
       "      <td>Percent</td>\n",
       "      <td>239</td>\n",
       "      <td>units</td>\n",
       "      <td>0</td>\n",
       "      <td>v1663833883</td>\n",
       "      <td>1.2.1.2.2</td>\n",
       "      <td>19.2</td>\n",
       "      <td>NaN</td>\n",
       "      <td>NaN</td>\n",
       "      <td>NaN</td>\n",
       "      <td>1</td>\n",
       "    </tr>\n",
       "    <tr>\n",
       "      <th>32</th>\n",
       "      <td>2024</td>\n",
       "      <td>Canada</td>\n",
       "      <td>2021A000011124</td>\n",
       "      <td>Yes, had an unmet health care need in the past...</td>\n",
       "      <td>First Nations</td>\n",
       "      <td>Men+</td>\n",
       "      <td>High 95% confidence interval</td>\n",
       "      <td>Percent</td>\n",
       "      <td>239</td>\n",
       "      <td>units</td>\n",
       "      <td>0</td>\n",
       "      <td>v1663833884</td>\n",
       "      <td>1.2.1.2.3</td>\n",
       "      <td>30.3</td>\n",
       "      <td>NaN</td>\n",
       "      <td>NaN</td>\n",
       "      <td>NaN</td>\n",
       "      <td>1</td>\n",
       "    </tr>\n",
       "  </tbody>\n",
       "</table>\n",
       "</div>"
      ],
      "text/plain": [
       "    ref_date     geo           dguid  \\\n",
       "30      2024  Canada  2021A000011124   \n",
       "31      2024  Canada  2021A000011124   \n",
       "32      2024  Canada  2021A000011124   \n",
       "\n",
       "                         healthcare_access_experience indigenous_group gender  \\\n",
       "30  Yes, had an unmet health care need in the past...    First Nations   Men+   \n",
       "31  Yes, had an unmet health care need in the past...    First Nations   Men+   \n",
       "32  Yes, had an unmet health care need in the past...    First Nations   Men+   \n",
       "\n",
       "                      statistics      uom  uom_id scalar_factor  scalar_id  \\\n",
       "30                    Percentage  Percent     239         units          0   \n",
       "31   Low 95% confidence interval  Percent     239         units          0   \n",
       "32  High 95% confidence interval  Percent     239         units          0   \n",
       "\n",
       "         vector coordinate  value status  symbol  terminated  decimals  \n",
       "30  v1663833882  1.2.1.2.1   24.4    NaN     NaN         NaN         1  \n",
       "31  v1663833883  1.2.1.2.2   19.2    NaN     NaN         NaN         1  \n",
       "32  v1663833884  1.2.1.2.3   30.3    NaN     NaN         NaN         1  "
      ]
     },
     "execution_count": 12,
     "metadata": {},
     "output_type": "execute_result"
    }
   ],
   "source": [
    "healthcare_df[\n",
    "    (healthcare_df['indigenous_group'] == 'First Nations') &\n",
    "    (healthcare_df['gender'] == 'Men+') &\n",
    "    (healthcare_df['healthcare_access_experience'] == 'Yes, had an unmet health care need in the past 12 months')\n",
    "]"
   ]
  },
  {
   "attachments": {},
   "cell_type": "markdown",
   "metadata": {},
   "source": [
    "We'll filter for statistics == 'Percentage'"
   ]
  },
  {
   "cell_type": "code",
   "execution_count": 13,
   "metadata": {},
   "outputs": [],
   "source": [
    "# filter statistics == 'Percentage'\n",
    "hc_filtered_df = healthcare_df[healthcare_df['statistics'] == 'Percentage']"
   ]
  },
  {
   "attachments": {},
   "cell_type": "markdown",
   "metadata": {},
   "source": [
    "## Drop Unnecessary Columns"
   ]
  },
  {
   "cell_type": "code",
   "execution_count": 14,
   "metadata": {},
   "outputs": [
    {
     "data": {
      "text/plain": [
       "Index(['ref_date', 'geo', 'dguid', 'healthcare_access_experience',\n",
       "       'indigenous_group', 'gender', 'statistics', 'uom', 'uom_id',\n",
       "       'scalar_factor', 'scalar_id', 'vector', 'coordinate', 'value', 'status',\n",
       "       'symbol', 'terminated', 'decimals'],\n",
       "      dtype='object')"
      ]
     },
     "execution_count": 14,
     "metadata": {},
     "output_type": "execute_result"
    }
   ],
   "source": [
    "hc_filtered_df.columns"
   ]
  },
  {
   "cell_type": "code",
   "execution_count": 15,
   "metadata": {},
   "outputs": [],
   "source": [
    "selected_cols = ['indigenous_group', 'gender', 'healthcare_access_experience', 'value']\n",
    "\n",
    "hc_filtered_df = hc_filtered_df[selected_cols]"
   ]
  },
  {
   "attachments": {},
   "cell_type": "markdown",
   "metadata": {},
   "source": [
    "## Drop Missing Values "
   ]
  },
  {
   "cell_type": "code",
   "execution_count": 16,
   "metadata": {},
   "outputs": [
    {
     "data": {
      "text/html": [
       "<div>\n",
       "<style scoped>\n",
       "    .dataframe tbody tr th:only-of-type {\n",
       "        vertical-align: middle;\n",
       "    }\n",
       "\n",
       "    .dataframe tbody tr th {\n",
       "        vertical-align: top;\n",
       "    }\n",
       "\n",
       "    .dataframe thead th {\n",
       "        text-align: right;\n",
       "    }\n",
       "</style>\n",
       "<table border=\"1\" class=\"dataframe\">\n",
       "  <thead>\n",
       "    <tr style=\"text-align: right;\">\n",
       "      <th></th>\n",
       "      <th>count</th>\n",
       "      <th>proportion</th>\n",
       "    </tr>\n",
       "  </thead>\n",
       "  <tbody>\n",
       "    <tr>\n",
       "      <th>indigenous_group</th>\n",
       "      <td>0</td>\n",
       "      <td>0.000000</td>\n",
       "    </tr>\n",
       "    <tr>\n",
       "      <th>gender</th>\n",
       "      <td>0</td>\n",
       "      <td>0.000000</td>\n",
       "    </tr>\n",
       "    <tr>\n",
       "      <th>healthcare_access_experience</th>\n",
       "      <td>0</td>\n",
       "      <td>0.000000</td>\n",
       "    </tr>\n",
       "    <tr>\n",
       "      <th>value</th>\n",
       "      <td>12</td>\n",
       "      <td>0.022989</td>\n",
       "    </tr>\n",
       "  </tbody>\n",
       "</table>\n",
       "</div>"
      ],
      "text/plain": [
       "                              count  proportion\n",
       "indigenous_group                  0    0.000000\n",
       "gender                            0    0.000000\n",
       "healthcare_access_experience      0    0.000000\n",
       "value                            12    0.022989"
      ]
     },
     "execution_count": 16,
     "metadata": {},
     "output_type": "execute_result"
    }
   ],
   "source": [
    "# Check NA value counts and proportions\n",
    "na_counts = hc_filtered_df.isna().sum()\n",
    "na_proportions = hc_filtered_df.isna().mean()\n",
    "na_summary = pd.DataFrame({'count': na_counts, 'proportion': na_proportions})\n",
    "na_summary"
   ]
  },
  {
   "attachments": {},
   "cell_type": "markdown",
   "metadata": {},
   "source": [
    "NA values only take up ~2% of the data, so we can drop them"
   ]
  },
  {
   "cell_type": "code",
   "execution_count": 17,
   "metadata": {},
   "outputs": [
    {
     "name": "stdout",
     "output_type": "stream",
     "text": [
      "Dropped 12 rows with NA values\n"
     ]
    }
   ],
   "source": [
    "# Drop rows with NA values\n",
    "hc_cleaned_df = hc_filtered_df.dropna()\n",
    "print(f\"Dropped {hc_filtered_df.shape[0] - hc_cleaned_df.shape[0]} rows with NA values\")"
   ]
  },
  {
   "attachments": {},
   "cell_type": "markdown",
   "metadata": {},
   "source": [
    "## Reported Access to Healthcare: Yes vs. No"
   ]
  },
  {
   "cell_type": "code",
   "execution_count": 21,
   "metadata": {},
   "outputs": [
    {
     "data": {
      "text/plain": [
       "array(['Total, unmet health care needs in the past 12 months',\n",
       "       'Yes, had an unmet health care need in the past 12 months',\n",
       "       'No, did not have an unmet health care need in the past 12 months',\n",
       "       'Total, consulted a health care provider for a non-urgent primary health care need in the past 12 months',\n",
       "       'Yes, consulted a health care provider for a non-urgent primary health care need in the past 12 months',\n",
       "       'No, did not consult a health care provider for a non-urgent primary health care need in the past 12 months',\n",
       "       'Total, wait time between requesting care and speaking with a primary health care provider',\n",
       "       'Same day or next', 'Two days to less than two weeks',\n",
       "       'Two weeks or more',\n",
       "       'Total, satisfaction with wait times between requesting care and speaking with a primary health care provider',\n",
       "       'Very satisfied or satisfied',\n",
       "       'Neither satisfied nor dissatisfied',\n",
       "       'Dissatisfied or very dissatisfied',\n",
       "       'Total, perceived mental health',\n",
       "       'Excellent or very good perceived mental health',\n",
       "       'Good perceived mental health',\n",
       "       'Fair or poor perceived mental health',\n",
       "       'Total, needed mental health care',\n",
       "       'Yes, needed mental health care',\n",
       "       'No, did not need mental health care',\n",
       "       'Total, extent to which mental health care needs were met',\n",
       "       'Sought mental health care, and needs were fully met',\n",
       "       'Sought mental health care, and needs were partially met',\n",
       "       'Sought mental health care, and needs were unmet',\n",
       "       'Did not seek mental health care',\n",
       "       'Total, any prescriptions for medication in the past 12 months',\n",
       "       'Yes, had a prescription for medication',\n",
       "       'No, did not have a prescription for medication',\n",
       "       'Total, cost-related non-adherence to prescription medication',\n",
       "       'Did not fill or collect a prescription medication',\n",
       "       'Skipped doses of prescription medication',\n",
       "       'Reduced the dosage of prescription medication',\n",
       "       'Delayed filling or refilling a prescription medication',\n",
       "       'Other decision due to cost of prescription medications',\n",
       "       'Did not do any of the above because of the cost of prescription medications',\n",
       "       'Total, reasons unable to fill prescription for medication',\n",
       "       'Unable to get new prescription from health care provider',\n",
       "       'Unable to fill enough prescription due to 30-day limit on prescriptions',\n",
       "       'Medication not available (for example, shortage)',\n",
       "       'Other reason unable to fill a prescription when needed',\n",
       "       'None of the above',\n",
       "       'Total, travelled outside community to access health care services',\n",
       "       'Yes, travelled outside community to access health care services',\n",
       "       'No, did not travel outside community to access health care services',\n",
       "       'Total, reported unfair treatment, racism or discrimination from health care professional',\n",
       "       'Yes, reported unfair treatment, racism or discrimination from health care professional',\n",
       "       'No, did not report unfair treatment, racism or discrimination from health care professional',\n",
       "       'Total, importance of having health care services that support Indigenous traditional medicines, healing and wellness practices',\n",
       "       'Very or somewhat important',\n",
       "       'Not very important or not important at all',\n",
       "       'Total, reasons why having health care services that support Indigenous traditional medicines, healing and wellness practices is important',\n",
       "       'Provide better overall quality of care',\n",
       "       'Feel respected for culture, beliefs and identity',\n",
       "       'Feel safer discussing sensitive or traumatic experiences',\n",
       "       'More likely to seek health care', 'Other reason',\n",
       "       'Prefer not to say'], dtype=object)"
      ]
     },
     "execution_count": 21,
     "metadata": {},
     "output_type": "execute_result"
    }
   ],
   "source": [
    "hc_cleaned_df['healthcare_access_experience'].unique()"
   ]
  },
  {
   "cell_type": "code",
   "execution_count": 18,
   "metadata": {},
   "outputs": [
    {
     "data": {
      "text/plain": [
       "54.84027777777778"
      ]
     },
     "execution_count": 18,
     "metadata": {},
     "output_type": "execute_result"
    }
   ],
   "source": [
    "hc_cleaned_df[hc_cleaned_df['healthcare_access_experience'].str.contains(\"No\")]['value'].mean()"
   ]
  },
  {
   "cell_type": "code",
   "execution_count": 19,
   "metadata": {},
   "outputs": [
    {
     "data": {
      "text/plain": [
       "42.09074074074075"
      ]
     },
     "execution_count": 19,
     "metadata": {},
     "output_type": "execute_result"
    }
   ],
   "source": [
    "hc_cleaned_df[hc_cleaned_df['healthcare_access_experience'].str.contains(\"Yes\")]['value'].mean()"
   ]
  },
  {
   "attachments": {},
   "cell_type": "markdown",
   "metadata": {},
   "source": [
    "55% of Indigenous people reported unmet healthcare needs, which is 13% higher than the 42% who reported having their healthcare needs met. This suggests a significant access issue for Indigenous peoples."
   ]
  },
  {
   "attachments": {},
   "cell_type": "markdown",
   "metadata": {},
   "source": [
    "## Feature Engineering"
   ]
  },
  {
   "cell_type": "code",
   "execution_count": 23,
   "metadata": {},
   "outputs": [],
   "source": [
    "def split_healthcare_access_experience(df):\n",
    "    # 1. Unmet healthcare need in past 12 months\n",
    "    df['unmet_healthcare_need_past_12mo'] = np.where(\n",
    "        df['healthcare_access_experience'].str.contains('unmet health care need in the past 12 months') & \n",
    "        df['healthcare_access_experience'].str.contains('Yes'),\n",
    "        'Yes',\n",
    "        np.where(\n",
    "            df['healthcare_access_experience'].str.contains('unmet health care need in the past 12 months') & \n",
    "            df['healthcare_access_experience'].str.contains('No'),\n",
    "            'No',\n",
    "            np.nan\n",
    "        )\n",
    "    )\n",
    "\n",
    "    # 2. Consulted provider for non-urgent care\n",
    "    df['consulted_provider_nonurgent_12mo'] = np.where(\n",
    "        df['healthcare_access_experience'].str.contains('consulted a health care provider for a non-urgent primary health care need in the past 12 months') & \n",
    "        df['healthcare_access_experience'].str.contains('Yes'),\n",
    "        'Yes',\n",
    "        np.where(\n",
    "            df['healthcare_access_experience'].str.contains('consulted a health care provider for a non-urgent primary health care need in the past 12 months') & \n",
    "            df['healthcare_access_experience'].str.contains('No'),\n",
    "            'No',\n",
    "            np.nan\n",
    "        )\n",
    "    )\n",
    "\n",
    "    # 3. Wait time category\n",
    "    def wait_time_category(val):\n",
    "        if val == 'Same day or next':\n",
    "            return 'Same day or next'\n",
    "        elif val == 'Two days to less than two weeks':\n",
    "            return '2d-2w'\n",
    "        elif val == 'Two weeks or more':\n",
    "            return '2w+'\n",
    "        return np.nan\n",
    "    df['wait_time'] = df['healthcare_access_experience'].apply(wait_time_category)\n",
    "\n",
    "    # 4. Satisfaction with wait time\n",
    "    def wait_satisfaction(val):\n",
    "        if val == 'Very satisfied or satisfied':\n",
    "            return 'Satisfied'\n",
    "        elif val == 'Neither satisfied nor dissatisfied':\n",
    "            return 'Neutral'\n",
    "        elif val == 'Dissatisfied or very dissatisfied':\n",
    "            return 'Dissatisfied'\n",
    "        return np.nan\n",
    "    df['wait_satisfaction'] = df['healthcare_access_experience'].apply(wait_satisfaction)\n",
    "\n",
    "    # 5. Perceived mental health\n",
    "    def mental_health(val):\n",
    "        if val == 'Excellent or very good perceived mental health':\n",
    "            return 'Excellent/Very Good'\n",
    "        elif val == 'Good perceived mental health':\n",
    "            return 'Good'\n",
    "        elif val == 'Fair or poor perceived mental health':\n",
    "            return 'Fair/Poor'\n",
    "        return np.nan\n",
    "    df['mental_health_status'] = df['healthcare_access_experience'].apply(mental_health)\n",
    "\n",
    "    # 6. Needed mental health care\n",
    "    df['needed_mental_health_care'] = np.where(\n",
    "        df['healthcare_access_experience'] == 'Yes, needed mental health care', 'Yes',\n",
    "        np.where(df['healthcare_access_experience'] == 'No, did not need mental health care', 'No', np.nan)\n",
    "    )\n",
    "\n",
    "    # 7. Extent to which mental health needs were met\n",
    "    def mh_needs_met(val):\n",
    "        if val == 'Sought mental health care, and needs were fully met':\n",
    "            return 'Fully Met'\n",
    "        elif val == 'Sought mental health care, and needs were partially met':\n",
    "            return 'Partially Met'\n",
    "        elif val == 'Sought mental health care, and needs were unmet':\n",
    "            return 'Unmet'\n",
    "        elif val == 'Did not seek mental health care':\n",
    "            return 'Not Sought'\n",
    "        return np.nan\n",
    "    df['mental_healthcare_needs_met'] = df['healthcare_access_experience'].apply(mh_needs_met)\n",
    "\n",
    "    # 8. Prescription for medication in past 12 months\n",
    "    df['prescription_12mo'] = np.where(\n",
    "        df['healthcare_access_experience'] == 'Yes, had a prescription for medication', 'Yes',\n",
    "        np.where(df['healthcare_access_experience'] == 'No, did not have a prescription for medication', 'No', np.nan)\n",
    "    )\n",
    "\n",
    "    # 9. Cost-related non-adherence (condensed)\n",
    "    def cost_nonadherence(val):\n",
    "        if 'Did not fill or collect' in val:\n",
    "            return 'Did not fill/collect'\n",
    "        elif 'Skipped doses' in val:\n",
    "            return 'Skipped doses'\n",
    "        elif 'Reduced the dosage' in val:\n",
    "            return 'Reduced dosage'\n",
    "        elif 'Delayed filling' in val:\n",
    "            return 'Delayed'\n",
    "        elif 'Other decision' in val:\n",
    "            return 'Other'\n",
    "        elif 'Did not do any of the above' in val:\n",
    "            return 'None'\n",
    "        return np.nan\n",
    "    df['cost_related_nonadherence'] = df['healthcare_access_experience'].apply(cost_nonadherence)\n",
    "\n",
    "    # 10. Reason unable to fill prescription\n",
    "    def unable_to_fill(val):\n",
    "        if 'Unable to get new prescription' in val:\n",
    "            return 'No new prescription'\n",
    "        elif 'Unable to fill enough' in val:\n",
    "            return '30-day limit'\n",
    "        elif 'Medication not available' in val:\n",
    "            return 'Not available'\n",
    "        elif 'Other reason' in val:\n",
    "            return 'Other'\n",
    "        elif 'None of the above' in val:\n",
    "            return 'None'\n",
    "        return np.nan\n",
    "    df['unable_to_fill_prescription'] = df['healthcare_access_experience'].apply(unable_to_fill)\n",
    "\n",
    "    # 11. Traveled outside community for care\n",
    "    df['traveled_for_care'] = np.where(\n",
    "        df['healthcare_access_experience'] == 'Yes, travelled outside community to access health care services', 'Yes',\n",
    "        np.where(df['healthcare_access_experience'] == 'No, did not travel outside community to access health care services', 'No', np.nan)\n",
    "    )\n",
    "\n",
    "    # 12. Reported discrimination\n",
    "    df['reported_discrimination'] = np.where(\n",
    "        df['healthcare_access_experience'] == 'Yes, reported unfair treatment, racism or discrimination from health care professional', 'Yes',\n",
    "        np.where(df['healthcare_access_experience'] == 'No, did not report unfair treatment, racism or discrimination from health care professional', 'No', np.nan)\n",
    "    )\n",
    "\n",
    "    # 13. Importance of Indigenous-supportive care\n",
    "    def indigenous_support(val):\n",
    "        if val == 'Very or somewhat important':\n",
    "            return 'Important'\n",
    "        elif val == 'Not very important or not important at all':\n",
    "            return 'Not important'\n",
    "        return np.nan\n",
    "    df['importance_indigenous_support'] = df['healthcare_access_experience'].apply(indigenous_support)\n",
    "\n",
    "    # 14. Reason why Indigenous-supportive care is important\n",
    "    def reason_indigenous_support(val):\n",
    "        if val == 'Provide better overall quality of care':\n",
    "            return 'Better quality'\n",
    "        elif val == 'Feel respected for culture, beliefs and identity':\n",
    "            return 'Feel respected'\n",
    "        elif val == 'Feel safer discussing sensitive or traumatic experiences':\n",
    "            return 'Safer to discuss'\n",
    "        elif val == 'More likely to seek health care':\n",
    "            return 'More likely to seek'\n",
    "        elif val == 'Other reason':\n",
    "            return 'Other'\n",
    "        elif val == 'Prefer not to say':\n",
    "            return 'Prefer not to say'\n",
    "        return np.nan\n",
    "    df['reason_indigenous_support'] = df['healthcare_access_experience'].apply(reason_indigenous_support)\n",
    "    \n",
    "    return df"
   ]
  },
  {
   "cell_type": "code",
   "execution_count": 24,
   "metadata": {},
   "outputs": [
    {
     "name": "stderr",
     "output_type": "stream",
     "text": [
      "/var/folders/8n/4krln465113bpt4x1bnwnwr80000gn/T/ipykernel_88311/1701962026.py:3: SettingWithCopyWarning: \n",
      "A value is trying to be set on a copy of a slice from a DataFrame.\n",
      "Try using .loc[row_indexer,col_indexer] = value instead\n",
      "\n",
      "See the caveats in the documentation: https://pandas.pydata.org/pandas-docs/stable/user_guide/indexing.html#returning-a-view-versus-a-copy\n",
      "  df['unmet_healthcare_need_past_12mo'] = np.where(\n",
      "/var/folders/8n/4krln465113bpt4x1bnwnwr80000gn/T/ipykernel_88311/1701962026.py:16: SettingWithCopyWarning: \n",
      "A value is trying to be set on a copy of a slice from a DataFrame.\n",
      "Try using .loc[row_indexer,col_indexer] = value instead\n",
      "\n",
      "See the caveats in the documentation: https://pandas.pydata.org/pandas-docs/stable/user_guide/indexing.html#returning-a-view-versus-a-copy\n",
      "  df['consulted_provider_nonurgent_12mo'] = np.where(\n",
      "/var/folders/8n/4krln465113bpt4x1bnwnwr80000gn/T/ipykernel_88311/1701962026.py:37: SettingWithCopyWarning: \n",
      "A value is trying to be set on a copy of a slice from a DataFrame.\n",
      "Try using .loc[row_indexer,col_indexer] = value instead\n",
      "\n",
      "See the caveats in the documentation: https://pandas.pydata.org/pandas-docs/stable/user_guide/indexing.html#returning-a-view-versus-a-copy\n",
      "  df['wait_time'] = df['healthcare_access_experience'].apply(wait_time_category)\n",
      "/var/folders/8n/4krln465113bpt4x1bnwnwr80000gn/T/ipykernel_88311/1701962026.py:48: SettingWithCopyWarning: \n",
      "A value is trying to be set on a copy of a slice from a DataFrame.\n",
      "Try using .loc[row_indexer,col_indexer] = value instead\n",
      "\n",
      "See the caveats in the documentation: https://pandas.pydata.org/pandas-docs/stable/user_guide/indexing.html#returning-a-view-versus-a-copy\n",
      "  df['wait_satisfaction'] = df['healthcare_access_experience'].apply(wait_satisfaction)\n",
      "/var/folders/8n/4krln465113bpt4x1bnwnwr80000gn/T/ipykernel_88311/1701962026.py:59: SettingWithCopyWarning: \n",
      "A value is trying to be set on a copy of a slice from a DataFrame.\n",
      "Try using .loc[row_indexer,col_indexer] = value instead\n",
      "\n",
      "See the caveats in the documentation: https://pandas.pydata.org/pandas-docs/stable/user_guide/indexing.html#returning-a-view-versus-a-copy\n",
      "  df['mental_health_status'] = df['healthcare_access_experience'].apply(mental_health)\n",
      "/var/folders/8n/4krln465113bpt4x1bnwnwr80000gn/T/ipykernel_88311/1701962026.py:62: SettingWithCopyWarning: \n",
      "A value is trying to be set on a copy of a slice from a DataFrame.\n",
      "Try using .loc[row_indexer,col_indexer] = value instead\n",
      "\n",
      "See the caveats in the documentation: https://pandas.pydata.org/pandas-docs/stable/user_guide/indexing.html#returning-a-view-versus-a-copy\n",
      "  df['needed_mental_health_care'] = np.where(\n",
      "/var/folders/8n/4krln465113bpt4x1bnwnwr80000gn/T/ipykernel_88311/1701962026.py:78: SettingWithCopyWarning: \n",
      "A value is trying to be set on a copy of a slice from a DataFrame.\n",
      "Try using .loc[row_indexer,col_indexer] = value instead\n",
      "\n",
      "See the caveats in the documentation: https://pandas.pydata.org/pandas-docs/stable/user_guide/indexing.html#returning-a-view-versus-a-copy\n",
      "  df['mental_healthcare_needs_met'] = df['healthcare_access_experience'].apply(mh_needs_met)\n",
      "/var/folders/8n/4krln465113bpt4x1bnwnwr80000gn/T/ipykernel_88311/1701962026.py:81: SettingWithCopyWarning: \n",
      "A value is trying to be set on a copy of a slice from a DataFrame.\n",
      "Try using .loc[row_indexer,col_indexer] = value instead\n",
      "\n",
      "See the caveats in the documentation: https://pandas.pydata.org/pandas-docs/stable/user_guide/indexing.html#returning-a-view-versus-a-copy\n",
      "  df['prescription_12mo'] = np.where(\n",
      "/var/folders/8n/4krln465113bpt4x1bnwnwr80000gn/T/ipykernel_88311/1701962026.py:101: SettingWithCopyWarning: \n",
      "A value is trying to be set on a copy of a slice from a DataFrame.\n",
      "Try using .loc[row_indexer,col_indexer] = value instead\n",
      "\n",
      "See the caveats in the documentation: https://pandas.pydata.org/pandas-docs/stable/user_guide/indexing.html#returning-a-view-versus-a-copy\n",
      "  df['cost_related_nonadherence'] = df['healthcare_access_experience'].apply(cost_nonadherence)\n",
      "/var/folders/8n/4krln465113bpt4x1bnwnwr80000gn/T/ipykernel_88311/1701962026.py:116: SettingWithCopyWarning: \n",
      "A value is trying to be set on a copy of a slice from a DataFrame.\n",
      "Try using .loc[row_indexer,col_indexer] = value instead\n",
      "\n",
      "See the caveats in the documentation: https://pandas.pydata.org/pandas-docs/stable/user_guide/indexing.html#returning-a-view-versus-a-copy\n",
      "  df['unable_to_fill_prescription'] = df['healthcare_access_experience'].apply(unable_to_fill)\n",
      "/var/folders/8n/4krln465113bpt4x1bnwnwr80000gn/T/ipykernel_88311/1701962026.py:119: SettingWithCopyWarning: \n",
      "A value is trying to be set on a copy of a slice from a DataFrame.\n",
      "Try using .loc[row_indexer,col_indexer] = value instead\n",
      "\n",
      "See the caveats in the documentation: https://pandas.pydata.org/pandas-docs/stable/user_guide/indexing.html#returning-a-view-versus-a-copy\n",
      "  df['traveled_for_care'] = np.where(\n",
      "/var/folders/8n/4krln465113bpt4x1bnwnwr80000gn/T/ipykernel_88311/1701962026.py:125: SettingWithCopyWarning: \n",
      "A value is trying to be set on a copy of a slice from a DataFrame.\n",
      "Try using .loc[row_indexer,col_indexer] = value instead\n",
      "\n",
      "See the caveats in the documentation: https://pandas.pydata.org/pandas-docs/stable/user_guide/indexing.html#returning-a-view-versus-a-copy\n",
      "  df['reported_discrimination'] = np.where(\n",
      "/var/folders/8n/4krln465113bpt4x1bnwnwr80000gn/T/ipykernel_88311/1701962026.py:137: SettingWithCopyWarning: \n",
      "A value is trying to be set on a copy of a slice from a DataFrame.\n",
      "Try using .loc[row_indexer,col_indexer] = value instead\n",
      "\n",
      "See the caveats in the documentation: https://pandas.pydata.org/pandas-docs/stable/user_guide/indexing.html#returning-a-view-versus-a-copy\n",
      "  df['importance_indigenous_support'] = df['healthcare_access_experience'].apply(indigenous_support)\n",
      "/var/folders/8n/4krln465113bpt4x1bnwnwr80000gn/T/ipykernel_88311/1701962026.py:154: SettingWithCopyWarning: \n",
      "A value is trying to be set on a copy of a slice from a DataFrame.\n",
      "Try using .loc[row_indexer,col_indexer] = value instead\n",
      "\n",
      "See the caveats in the documentation: https://pandas.pydata.org/pandas-docs/stable/user_guide/indexing.html#returning-a-view-versus-a-copy\n",
      "  df['reason_indigenous_support'] = df['healthcare_access_experience'].apply(reason_indigenous_support)\n"
     ]
    }
   ],
   "source": [
    "hc_feature_eng_df = split_healthcare_access_experience(hc_cleaned_df)"
   ]
  },
  {
   "cell_type": "code",
   "execution_count": 25,
   "metadata": {},
   "outputs": [
    {
     "data": {
      "text/plain": [
       "510"
      ]
     },
     "execution_count": 25,
     "metadata": {},
     "output_type": "execute_result"
    }
   ],
   "source": [
    "hc_feature_eng_df.shape[0]"
   ]
  },
  {
   "cell_type": "code",
   "execution_count": 26,
   "metadata": {},
   "outputs": [
    {
     "data": {
      "text/plain": [
       "Index(['indigenous_group', 'gender', 'healthcare_access_experience', 'value',\n",
       "       'unmet_healthcare_need_past_12mo', 'consulted_provider_nonurgent_12mo',\n",
       "       'wait_time', 'wait_satisfaction', 'mental_health_status',\n",
       "       'needed_mental_health_care', 'mental_healthcare_needs_met',\n",
       "       'prescription_12mo', 'cost_related_nonadherence',\n",
       "       'unable_to_fill_prescription', 'traveled_for_care',\n",
       "       'reported_discrimination', 'importance_indigenous_support',\n",
       "       'reason_indigenous_support'],\n",
       "      dtype='object')"
      ]
     },
     "execution_count": 26,
     "metadata": {},
     "output_type": "execute_result"
    }
   ],
   "source": [
    "hc_feature_eng_df.columns"
   ]
  },
  {
   "cell_type": "code",
   "execution_count": 33,
   "metadata": {},
   "outputs": [
    {
     "data": {
      "text/html": [
       "<div>\n",
       "<style scoped>\n",
       "    .dataframe tbody tr th:only-of-type {\n",
       "        vertical-align: middle;\n",
       "    }\n",
       "\n",
       "    .dataframe tbody tr th {\n",
       "        vertical-align: top;\n",
       "    }\n",
       "\n",
       "    .dataframe thead th {\n",
       "        text-align: right;\n",
       "    }\n",
       "</style>\n",
       "<table border=\"1\" class=\"dataframe\">\n",
       "  <thead>\n",
       "    <tr style=\"text-align: right;\">\n",
       "      <th></th>\n",
       "      <th>indigenous_group</th>\n",
       "      <th>gender</th>\n",
       "      <th>healthcare_access_experience</th>\n",
       "      <th>value</th>\n",
       "      <th>unmet_healthcare_need_past_12mo</th>\n",
       "      <th>consulted_provider_nonurgent_12mo</th>\n",
       "      <th>wait_time</th>\n",
       "      <th>wait_satisfaction</th>\n",
       "      <th>mental_health_status</th>\n",
       "      <th>needed_mental_health_care</th>\n",
       "      <th>mental_healthcare_needs_met</th>\n",
       "      <th>prescription_12mo</th>\n",
       "      <th>cost_related_nonadherence</th>\n",
       "      <th>unable_to_fill_prescription</th>\n",
       "      <th>traveled_for_care</th>\n",
       "      <th>reported_discrimination</th>\n",
       "      <th>importance_indigenous_support</th>\n",
       "      <th>reason_indigenous_support</th>\n",
       "    </tr>\n",
       "  </thead>\n",
       "  <tbody>\n",
       "    <tr>\n",
       "      <th>108</th>\n",
       "      <td>First Nations</td>\n",
       "      <td>Total, gender</td>\n",
       "      <td>Yes, consulted a health care provider for a no...</td>\n",
       "      <td>66.2</td>\n",
       "      <td>nan</td>\n",
       "      <td>Yes</td>\n",
       "      <td>NaN</td>\n",
       "      <td>NaN</td>\n",
       "      <td>NaN</td>\n",
       "      <td>nan</td>\n",
       "      <td>NaN</td>\n",
       "      <td>nan</td>\n",
       "      <td>NaN</td>\n",
       "      <td>NaN</td>\n",
       "      <td>nan</td>\n",
       "      <td>nan</td>\n",
       "      <td>NaN</td>\n",
       "      <td>NaN</td>\n",
       "    </tr>\n",
       "  </tbody>\n",
       "</table>\n",
       "</div>"
      ],
      "text/plain": [
       "    indigenous_group         gender  \\\n",
       "108    First Nations  Total, gender   \n",
       "\n",
       "                          healthcare_access_experience  value  \\\n",
       "108  Yes, consulted a health care provider for a no...   66.2   \n",
       "\n",
       "    unmet_healthcare_need_past_12mo consulted_provider_nonurgent_12mo  \\\n",
       "108                             nan                               Yes   \n",
       "\n",
       "    wait_time wait_satisfaction mental_health_status  \\\n",
       "108       NaN               NaN                  NaN   \n",
       "\n",
       "    needed_mental_health_care mental_healthcare_needs_met prescription_12mo  \\\n",
       "108                       nan                         NaN               nan   \n",
       "\n",
       "    cost_related_nonadherence unable_to_fill_prescription traveled_for_care  \\\n",
       "108                       NaN                         NaN               nan   \n",
       "\n",
       "    reported_discrimination importance_indigenous_support  \\\n",
       "108                     nan                           NaN   \n",
       "\n",
       "    reason_indigenous_support  \n",
       "108                       NaN  "
      ]
     },
     "execution_count": 33,
     "metadata": {},
     "output_type": "execute_result"
    }
   ],
   "source": [
    "hc_feature_eng_df[(hc_feature_eng_df['consulted_provider_nonurgent_12mo'] == 'Yes') &\n",
    "                (hc_feature_eng_df['indigenous_group'] == 'First Nations') &\n",
    "                (hc_feature_eng_df['gender'] == 'Total, gender')\n",
    "]"
   ]
  },
  {
   "attachments": {},
   "cell_type": "markdown",
   "metadata": {},
   "source": [
    "## Store Final Data as Parquet"
   ]
  },
  {
   "cell_type": "code",
   "execution_count": 34,
   "metadata": {},
   "outputs": [
    {
     "name": "stdout",
     "output_type": "stream",
     "text": [
      "Total number of rows: 510\n"
     ]
    }
   ],
   "source": [
    "print(f\"Total number of rows: {hc_feature_eng_df.shape[0]}\")"
   ]
  },
  {
   "cell_type": "code",
   "execution_count": 35,
   "metadata": {},
   "outputs": [],
   "source": [
    "# save as parquet\n",
    "hc_feature_eng_df.to_parquet('data/healthcare-access/41100081-eng/healthcare_access.parquet', index=False)"
   ]
  }
 ],
 "metadata": {
  "kernelspec": {
   "display_name": "Python 3",
   "language": "python",
   "name": "python3"
  },
  "language_info": {
   "codemirror_mode": {
    "name": "ipython",
    "version": 3
   },
   "file_extension": ".py",
   "mimetype": "text/x-python",
   "name": "python",
   "nbconvert_exporter": "python",
   "pygments_lexer": "ipython3",
   "version": "3.10.0 (v3.10.0:b494f5935c, Oct  4 2021, 14:59:19) [Clang 12.0.5 (clang-1205.0.22.11)]"
  },
  "orig_nbformat": 4,
  "vscode": {
   "interpreter": {
    "hash": "aee8b7b246df8f9039afb4144a1f6fd8d2ca17a180786b69acc140d282b71a49"
   }
  }
 },
 "nbformat": 4,
 "nbformat_minor": 2
}
